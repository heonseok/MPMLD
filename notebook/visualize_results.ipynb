{
 "cells": [
  {
   "cell_type": "code",
   "execution_count": 9,
   "metadata": {
    "collapsed": true
   },
   "outputs": [],
   "source": [
    "import os\n",
    "import matplotlib.pyplot as plt\n",
    "import numpy as np\n",
    "import pandas as pd\n",
    "import seaborn as sns\n",
    "\n",
    "base_path = '/mnt/disk1/heonseok/MPMLD/output'\n",
    "if not os.path.exists('Figs'):\n",
    "    os.mkdir('Figs')"
   ]
  },
  {
   "cell_type": "code",
   "execution_count": 10,
   "outputs": [],
   "source": [
    "def parse_input_type(model):\n",
    "    if 'original' in model:\n",
    "        return 'original'\n",
    "    elif 'base' in model:\n",
    "        return 'base'\n",
    "    elif 'type1' in model:\n",
    "        return 'type1'\n",
    "    elif 'type2' in model:\n",
    "        return 'type2'\n",
    "    elif 'type3' in model:\n",
    "        return 'type3'\n",
    "    elif 'type4' in model:\n",
    "        return 'type4'\n",
    "    elif 'type5' in model:\n",
    "        return 'type5'"
   ],
   "metadata": {
    "collapsed": false,
    "pycharm": {
     "name": "#%%\n"
    }
   }
  },
  {
   "cell_type": "code",
   "execution_count": 11,
   "outputs": [],
   "source": [
    "def bar_plot_class_acc(dataset, model_list):\n",
    "    class_df = pd.DataFrame()\n",
    "    for model in model_list:\n",
    "        input_type = parse_input_type(model)\n",
    "        class_path = os.path.join(base_path, dataset, 'classifier', model)\n",
    "        for z_type in ['full_z', 'content_z', 'style_z']:\n",
    "            for repeat in range(1):\n",
    "                try:\n",
    "                    class_repeat_path = os.path.join(class_path, z_type, 'repeat{}'.format(repeat))\n",
    "                    class_acc = np.load(os.path.join(class_repeat_path, 'acc.npy'), allow_pickle=True).item()\n",
    "                    class_df = class_df.append({'Classification accuracy': class_acc['test'], 'Input':input_type, 'z type': z_type}, ignore_index=True)\n",
    "\n",
    "                except FileNotFoundError:\n",
    "                    continue\n",
    "    # sns.barplot(x='z type', y='Classification accuracy', data=class_df, hue='Input')\n",
    "    sns.barplot(x='Input', y='Classification accuracy', data=class_df, hue='z type')\n",
    "    plt.tight_layout()\n",
    "    plt.show()\n",
    "    plt.close()\n"
   ],
   "metadata": {
    "collapsed": false,
    "pycharm": {
     "name": "#%%\n"
    }
   }
  },
  {
   "cell_type": "code",
   "execution_count": 12,
   "outputs": [],
   "source": [
    "def bar_plot_attack_acc(dataset, model_list):\n",
    "    attack_df = pd.DataFrame()\n",
    "    for attack_type in ['stat', 'black']:\n",
    "        for model in model_list:\n",
    "            input_type = parse_input_type(model)\n",
    "            attack_path = os.path.join(base_path, dataset, 'attacker', model)\n",
    "            for z_type in ['full_z', 'content_z', 'style_z']:\n",
    "                for repeat in range(1):\n",
    "                    try:\n",
    "                        attack_repeat_path = os.path.join(attack_path, z_type, 'repeat{}'.format(repeat), attack_type)\n",
    "                        attack_acc = np.load(os.path.join(attack_repeat_path, 'acc.npy'), allow_pickle=True)\n",
    "                        if not attack_type == 'stat':\n",
    "                            attack_acc = attack_acc.item()['test']\n",
    "                        attack_df = attack_df.append({'Attack accuracy': attack_acc, 'Input':input_type, 'z type': z_type}, ignore_index=True)\n",
    "\n",
    "                    except FileNotFoundError:\n",
    "                        continue\n",
    "\n",
    "        sns.barplot(x='Input', y='Attack accuracy', data=attack_df, hue='z type')\n",
    "        plt.ylim(0.5, 0.7)\n",
    "        plt.tight_layout()\n",
    "        plt.title('{} attack'.format(attack_type), fontdict={'size': 15})\n",
    "        plt.show()\n"
   ],
   "metadata": {
    "collapsed": false,
    "pycharm": {
     "name": "#%%\n"
    }
   }
  },
  {
   "cell_type": "code",
   "execution_count": 13,
   "outputs": [],
   "source": [
    "def bar_plot_acc_from_z(dataset, model_list):\n",
    "    df = pd.DataFrame()\n",
    "    for model in model_list:\n",
    "        input_type = parse_input_type(model)\n",
    "        result_path = os.path.join(base_path, dataset, 'reconstructor', model)\n",
    "        for repeat in range(1):\n",
    "            try:\n",
    "                repeat_path = os.path.join(result_path, 'repeat{}'.format(repeat))\n",
    "                acc = np.load(os.path.join(repeat_path, 'acc.npy'), allow_pickle=True).item()\n",
    "                for key, value in acc.items():\n",
    "                    # acc['Recon'] = input_type\n",
    "                    # print(acc)\n",
    "                    df = df.append({'Accuracy': value, 'Disc':key, 'Recon': input_type}, ignore_index=True)\n",
    "                # df = df.append({'Attack accuracy': attack_acc, 'Input':input_type, 'z type': z_type}, ignore_index=True)\n",
    "\n",
    "            except FileNotFoundError:\n",
    "                # print(repeat_path)\n",
    "                continue\n",
    "\n",
    "        # print(df)\n",
    "    # df = df[['class_acc_full', 'class_acc_content', 'class_acc_style', 'membership_acc_full', 'membership_acc_content', 'membership_acc_style', 'Recon']]\n",
    "    sns.barplot(x='Recon', y='Accuracy', data=df, hue='Disc')\n",
    "    # sns.barplot(x='Input', y='Attack accuracy', data=df, hue='z type')\n",
    "    # plt.ylim(0.5, 0.7)\n",
    "    plt.tight_layout()\n",
    "    # # plt.title('{} attack'.format(attack_type), fontdict={'size': 15})\n",
    "    plt.show()\n"
   ],
   "metadata": {
    "collapsed": false,
    "pycharm": {
     "name": "#%%\n"
    }
   }
  },
  {
   "cell_type": "code",
   "execution_count": 48,
   "outputs": [
    {
     "data": {
      "text/plain": "<Figure size 432x288 with 1 Axes>",
      "image/png": "[encoded data removed]"
     },
     "metadata": {
      "needs_background": "light"
     },
     "output_type": "display_data"
    }
   ],
   "source": [
    "# bar_plot_attack_acc('location', location_model_list)\n",
    "location_model_list = [\n",
    "    # 'AE_z64_base_setsize2000',\n",
    "    'AE_z64_type1_setsize2000',\n",
    "    # 'AE_z64_type5_setsize2000',\n",
    "    # 'AE_z16_type5_setsize2000',\n",
    "]\n",
    "\n",
    "bar_plot_acc_from_z('location',location_model_list)"
   ],
   "metadata": {
    "collapsed": false,
    "pycharm": {
     "name": "#%%\n"
    }
   }
  },
  {
   "cell_type": "code",
   "execution_count": 49,
   "outputs": [
    {
     "data": {
      "text/plain": "<Figure size 432x288 with 1 Axes>",
      "image/png": "[encoded data removed]"
     },
     "metadata": {
      "needs_background": "light"
     },
     "output_type": "display_data"
    }
   ],
   "source": [
    "location_model_list = [\n",
    "    # 'FCNClassifier_setsize2000_original',\n",
    "    # 'FCNClassifier_setsize2000_AE_z32_base',\n",
    "    # 'FCNClassifier_setsize2000_AE_z32_type1',\n",
    "    # 'FCNClassifier_setsize2000_AE_z32_type2',\n",
    "    # 'FCNClassifier_setsize2000_AE_z64_base',\n",
    "    'FCNClassifier_setsize2000_AE_z64_type1',\n",
    "    # 'FCNClassifier_setsize2000_AE_z64_type5',\n",
    "    # 'FCNClassifier_setsize2000_AE_z16_type5',\n",
    "]\n",
    "bar_plot_class_acc('location', location_model_list)\n",
    "# bar_plot_attack_acc('location', location_model_list)\n"
   ],
   "metadata": {
    "collapsed": false,
    "pycharm": {
     "name": "#%%\n"
    }
   }
  }
 ],
 "metadata": {
  "kernelspec": {
   "display_name": "Python 3",
   "language": "python",
   "name": "python3"
  },
  "language_info": {
   "codemirror_mode": {
    "name": "ipython",
    "version": 2
   },
   "file_extension": ".py",
   "mimetype": "text/x-python",
   "name": "python",
   "nbconvert_exporter": "python",
   "pygments_lexer": "ipython2",
   "version": "2.7.6"
  }
 },
 "nbformat": 4,
 "nbformat_minor": 0
}