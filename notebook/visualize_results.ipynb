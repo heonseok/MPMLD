{
 "cells": [
  {
   "cell_type": "code",
   "execution_count": 9,
   "metadata": {
    "collapsed": true
   },
   "outputs": [],
   "source": [
    "import os\n",
    "import matplotlib.pyplot as plt\n",
    "import numpy as np\n",
    "import pandas as pd\n",
    "import seaborn as sns\n",
    "\n",
    "base_path = '/mnt/disk1/heonseok/MPMLD/output'\n",
    "if not os.path.exists('Figs'):\n",
    "    os.mkdir('Figs')"
   ]
  },
  {
   "cell_type": "code",
   "execution_count": 10,
   "outputs": [],
   "source": [
    "def parse_input_type(model):\n",
    "    if 'original' in model:\n",
    "        return 'original'\n",
    "    elif 'base' in model:\n",
    "        return 'base'\n",
    "    elif 'type1' in model:\n",
    "        return 'type1'\n",
    "    elif 'type2' in model:\n",
    "        return 'type2'\n",
    "    elif 'type3' in model:\n",
    "        return 'type3'\n",
    "    elif 'type4' in model:\n",
    "        return 'type4'\n",
    "    elif 'type5' in model:\n",
    "        return 'type5'"
   ],
   "metadata": {
    "collapsed": false,
    "pycharm": {
     "name": "#%%\n"
    }
   }
  },
  {
   "cell_type": "code",
   "execution_count": 11,
   "outputs": [],
   "source": [
    "def bar_plot_class_acc(dataset, model_list):\n",
    "    class_df = pd.DataFrame()\n",
    "    for model in model_list:\n",
    "        input_type = parse_input_type(model)\n",
    "        class_path = os.path.join(base_path, dataset, 'classifier', model)\n",
    "        for z_type in ['full_z', 'content_z', 'style_z']:\n",
    "            for repeat in range(1):\n",
    "                try:\n",
    "                    class_repeat_path = os.path.join(class_path, z_type, 'repeat{}'.format(repeat))\n",
    "                    class_acc = np.load(os.path.join(class_repeat_path, 'acc.npy'), allow_pickle=True).item()\n",
    "                    class_df = class_df.append({'Classification accuracy': class_acc['test'], 'Input':input_type, 'z type': z_type}, ignore_index=True)\n",
    "\n",
    "                except FileNotFoundError:\n",
    "                    continue\n",
    "    # sns.barplot(x='z type', y='Classification accuracy', data=class_df, hue='Input')\n",
    "    sns.barplot(x='Input', y='Classification accuracy', data=class_df, hue='z type')\n",
    "    plt.tight_layout()\n",
    "    plt.show()\n",
    "    plt.close()\n"
   ],
   "metadata": {
    "collapsed": false,
    "pycharm": {
     "name": "#%%\n"
    }
   }
  },
  {
   "cell_type": "code",
   "execution_count": 12,
   "outputs": [],
   "source": [
    "def bar_plot_attack_acc(dataset, model_list):\n",
    "    attack_df = pd.DataFrame()\n",
    "    for attack_type in ['stat', 'black']:\n",
    "        for model in model_list:\n",
    "            input_type = parse_input_type(model)\n",
    "            attack_path = os.path.join(base_path, dataset, 'attacker', model)\n",
    "            for z_type in ['full_z', 'content_z', 'style_z']:\n",
    "                for repeat in range(1):\n",
    "                    try:\n",
    "                        attack_repeat_path = os.path.join(attack_path, z_type, 'repeat{}'.format(repeat), attack_type)\n",
    "                        attack_acc = np.load(os.path.join(attack_repeat_path, 'acc.npy'), allow_pickle=True)\n",
    "                        if not attack_type == 'stat':\n",
    "                            attack_acc = attack_acc.item()['test']\n",
    "                        attack_df = attack_df.append({'Attack accuracy': attack_acc, 'Input':input_type, 'z type': z_type}, ignore_index=True)\n",
    "\n",
    "                    except FileNotFoundError:\n",
    "                        continue\n",
    "\n",
    "        sns.barplot(x='Input', y='Attack accuracy', data=attack_df, hue='z type')\n",
    "        plt.ylim(0.5, 0.7)\n",
    "        plt.tight_layout()\n",
    "        plt.title('{} attack'.format(attack_type), fontdict={'size': 15})\n",
    "        plt.show()\n"
   ],
   "metadata": {
    "collapsed": false,
    "pycharm": {
     "name": "#%%\n"
    }
   }
  },
  {
   "cell_type": "code",
   "execution_count": 13,
   "outputs": [],
   "source": [
    "def bar_plot_acc_from_z(dataset, model_list):\n",
    "    df = pd.DataFrame()\n",
    "    for model in model_list:\n",
    "        input_type = parse_input_type(model)\n",
    "        result_path = os.path.join(base_path, dataset, 'reconstructor', model)\n",
    "        for repeat in range(1):\n",
    "            try:\n",
    "                repeat_path = os.path.join(result_path, 'repeat{}'.format(repeat))\n",
    "                acc = np.load(os.path.join(repeat_path, 'acc.npy'), allow_pickle=True).item()\n",
    "                for key, value in acc.items():\n",
    "                    # acc['Recon'] = input_type\n",
    "                    # print(acc)\n",
    "                    df = df.append({'Accuracy': value, 'Disc':key, 'Recon': input_type}, ignore_index=True)\n",
    "                # df = df.append({'Attack accuracy': attack_acc, 'Input':input_type, 'z type': z_type}, ignore_index=True)\n",
    "\n",
    "            except FileNotFoundError:\n",
    "                # print(repeat_path)\n",
    "                continue\n",
    "\n",
    "        # print(df)\n",
    "    # df = df[['class_acc_full', 'class_acc_content', 'class_acc_style', 'membership_acc_full', 'membership_acc_content', 'membership_acc_style', 'Recon']]\n",
    "    sns.barplot(x='Recon', y='Accuracy', data=df, hue='Disc')\n",
    "    # sns.barplot(x='Input', y='Attack accuracy', data=df, hue='z type')\n",
    "    # plt.ylim(0.5, 0.7)\n",
    "    plt.tight_layout()\n",
    "    # # plt.title('{} attack'.format(attack_type), fontdict={'size': 15})\n",
    "    plt.show()\n"
   ],
   "metadata": {
    "collapsed": false,
    "pycharm": {
     "name": "#%%\n"
    }
   }
  },
  {
   "cell_type": "code",
   "execution_count": 48,
   "outputs": [
    {
     "data": {
      "text/plain": "<Figure size 432x288 with 1 Axes>",
      "image/png": "[encoded data removed]"
     },
     "metadata": {
      "needs_background": "light"
     },
     "output_type": "display_data"
    }
   ],
   "source": [
    "# bar_plot_attack_acc('location', location_model_list)\n",
    "location_model_list = [\n",
    "    # 'AE_z64_base_setsize2000',\n",
    "    'AE_z64_type1_setsize2000',\n",
    "    # 'AE_z64_type5_setsize2000',\n",
    "    # 'AE_z16_type5_setsize2000',\n",
    "]\n",
    "\n",
    "bar_plot_acc_from_z('location',location_model_list)"
   ],
   "metadata": {
    "collapsed": false,
    "pycharm": {
     "name": "#%%\n"
    }
   }
  },
  {
   "cell_type": "code",
   "execution_count": 50,
   "outputs": [
    {
     "ename": "ValueError",
     "evalue": "Could not interpret input 'Input'",
     "output_type": "error",
     "traceback": [
      "\u001B[0;31m---------------------------------------------------------------------------\u001B[0m",
      "\u001B[0;31mValueError\u001B[0m                                Traceback (most recent call last)",
      "\u001B[0;32m<ipython-input-50-30f1e1ed1504>\u001B[0m in \u001B[0;36m<module>\u001B[0;34m\u001B[0m\n\u001B[1;32m      9\u001B[0m     \u001B[0;31m# 'FCNClassifier_setsize2000_AE_z16_type5',\u001B[0m\u001B[0;34m\u001B[0m\u001B[0;34m\u001B[0m\u001B[0;34m\u001B[0m\u001B[0m\n\u001B[1;32m     10\u001B[0m ]\n\u001B[0;32m---> 11\u001B[0;31m \u001B[0mbar_plot_class_acc\u001B[0m\u001B[0;34m(\u001B[0m\u001B[0;34m'location'\u001B[0m\u001B[0;34m,\u001B[0m \u001B[0mlocation_model_list\u001B[0m\u001B[0;34m)\u001B[0m\u001B[0;34m\u001B[0m\u001B[0;34m\u001B[0m\u001B[0m\n\u001B[0m\u001B[1;32m     12\u001B[0m \u001B[0mbar_plot_attack_acc\u001B[0m\u001B[0;34m(\u001B[0m\u001B[0;34m'location'\u001B[0m\u001B[0;34m,\u001B[0m \u001B[0mlocation_model_list\u001B[0m\u001B[0;34m)\u001B[0m\u001B[0;34m\u001B[0m\u001B[0;34m\u001B[0m\u001B[0m\n\u001B[1;32m     13\u001B[0m \u001B[0;34m\u001B[0m\u001B[0m\n",
      "\u001B[0;32m<ipython-input-11-07ad372a60a3>\u001B[0m in \u001B[0;36mbar_plot_class_acc\u001B[0;34m(dataset, model_list)\u001B[0m\n\u001B[1;32m     14\u001B[0m                     \u001B[0;32mcontinue\u001B[0m\u001B[0;34m\u001B[0m\u001B[0;34m\u001B[0m\u001B[0m\n\u001B[1;32m     15\u001B[0m     \u001B[0;31m# sns.barplot(x='z type', y='Classification accuracy', data=class_df, hue='Input')\u001B[0m\u001B[0;34m\u001B[0m\u001B[0;34m\u001B[0m\u001B[0;34m\u001B[0m\u001B[0m\n\u001B[0;32m---> 16\u001B[0;31m     \u001B[0msns\u001B[0m\u001B[0;34m.\u001B[0m\u001B[0mbarplot\u001B[0m\u001B[0;34m(\u001B[0m\u001B[0mx\u001B[0m\u001B[0;34m=\u001B[0m\u001B[0;34m'Input'\u001B[0m\u001B[0;34m,\u001B[0m \u001B[0my\u001B[0m\u001B[0;34m=\u001B[0m\u001B[0;34m'Classification accuracy'\u001B[0m\u001B[0;34m,\u001B[0m \u001B[0mdata\u001B[0m\u001B[0;34m=\u001B[0m\u001B[0mclass_df\u001B[0m\u001B[0;34m,\u001B[0m \u001B[0mhue\u001B[0m\u001B[0;34m=\u001B[0m\u001B[0;34m'z type'\u001B[0m\u001B[0;34m)\u001B[0m\u001B[0;34m\u001B[0m\u001B[0;34m\u001B[0m\u001B[0m\n\u001B[0m\u001B[1;32m     17\u001B[0m     \u001B[0mplt\u001B[0m\u001B[0;34m.\u001B[0m\u001B[0mtight_layout\u001B[0m\u001B[0;34m(\u001B[0m\u001B[0;34m)\u001B[0m\u001B[0;34m\u001B[0m\u001B[0;34m\u001B[0m\u001B[0m\n\u001B[1;32m     18\u001B[0m     \u001B[0mplt\u001B[0m\u001B[0;34m.\u001B[0m\u001B[0mshow\u001B[0m\u001B[0;34m(\u001B[0m\u001B[0;34m)\u001B[0m\u001B[0;34m\u001B[0m\u001B[0;34m\u001B[0m\u001B[0m\n",
      "\u001B[0;32m~/anaconda3/envs/pysyft/lib/python3.7/site-packages/seaborn/categorical.py\u001B[0m in \u001B[0;36mbarplot\u001B[0;34m(x, y, hue, data, order, hue_order, estimator, ci, n_boot, units, orient, color, palette, saturation, errcolor, errwidth, capsize, dodge, ax, **kwargs)\u001B[0m\n\u001B[1;32m   3147\u001B[0m                           \u001B[0mestimator\u001B[0m\u001B[0;34m,\u001B[0m \u001B[0mci\u001B[0m\u001B[0;34m,\u001B[0m \u001B[0mn_boot\u001B[0m\u001B[0;34m,\u001B[0m \u001B[0munits\u001B[0m\u001B[0;34m,\u001B[0m\u001B[0;34m\u001B[0m\u001B[0;34m\u001B[0m\u001B[0m\n\u001B[1;32m   3148\u001B[0m                           \u001B[0morient\u001B[0m\u001B[0;34m,\u001B[0m \u001B[0mcolor\u001B[0m\u001B[0;34m,\u001B[0m \u001B[0mpalette\u001B[0m\u001B[0;34m,\u001B[0m \u001B[0msaturation\u001B[0m\u001B[0;34m,\u001B[0m\u001B[0;34m\u001B[0m\u001B[0;34m\u001B[0m\u001B[0m\n\u001B[0;32m-> 3149\u001B[0;31m                           errcolor, errwidth, capsize, dodge)\n\u001B[0m\u001B[1;32m   3150\u001B[0m \u001B[0;34m\u001B[0m\u001B[0m\n\u001B[1;32m   3151\u001B[0m     \u001B[0;32mif\u001B[0m \u001B[0max\u001B[0m \u001B[0;32mis\u001B[0m \u001B[0;32mNone\u001B[0m\u001B[0;34m:\u001B[0m\u001B[0;34m\u001B[0m\u001B[0;34m\u001B[0m\u001B[0m\n",
      "\u001B[0;32m~/anaconda3/envs/pysyft/lib/python3.7/site-packages/seaborn/categorical.py\u001B[0m in \u001B[0;36m__init__\u001B[0;34m(self, x, y, hue, data, order, hue_order, estimator, ci, n_boot, units, orient, color, palette, saturation, errcolor, errwidth, capsize, dodge)\u001B[0m\n\u001B[1;32m   1605\u001B[0m         \u001B[0;34m\"\"\"Initialize the plotter.\"\"\"\u001B[0m\u001B[0;34m\u001B[0m\u001B[0;34m\u001B[0m\u001B[0m\n\u001B[1;32m   1606\u001B[0m         self.establish_variables(x, y, hue, data, orient,\n\u001B[0;32m-> 1607\u001B[0;31m                                  order, hue_order, units)\n\u001B[0m\u001B[1;32m   1608\u001B[0m         \u001B[0mself\u001B[0m\u001B[0;34m.\u001B[0m\u001B[0mestablish_colors\u001B[0m\u001B[0;34m(\u001B[0m\u001B[0mcolor\u001B[0m\u001B[0;34m,\u001B[0m \u001B[0mpalette\u001B[0m\u001B[0;34m,\u001B[0m \u001B[0msaturation\u001B[0m\u001B[0;34m)\u001B[0m\u001B[0;34m\u001B[0m\u001B[0;34m\u001B[0m\u001B[0m\n\u001B[1;32m   1609\u001B[0m         \u001B[0mself\u001B[0m\u001B[0;34m.\u001B[0m\u001B[0mestimate_statistic\u001B[0m\u001B[0;34m(\u001B[0m\u001B[0mestimator\u001B[0m\u001B[0;34m,\u001B[0m \u001B[0mci\u001B[0m\u001B[0;34m,\u001B[0m \u001B[0mn_boot\u001B[0m\u001B[0;34m)\u001B[0m\u001B[0;34m\u001B[0m\u001B[0;34m\u001B[0m\u001B[0m\n",
      "\u001B[0;32m~/anaconda3/envs/pysyft/lib/python3.7/site-packages/seaborn/categorical.py\u001B[0m in \u001B[0;36mestablish_variables\u001B[0;34m(self, x, y, hue, data, orient, order, hue_order, units)\u001B[0m\n\u001B[1;32m    153\u001B[0m                 \u001B[0;32mif\u001B[0m \u001B[0misinstance\u001B[0m\u001B[0;34m(\u001B[0m\u001B[0minput\u001B[0m\u001B[0;34m,\u001B[0m \u001B[0mstring_types\u001B[0m\u001B[0;34m)\u001B[0m\u001B[0;34m:\u001B[0m\u001B[0;34m\u001B[0m\u001B[0;34m\u001B[0m\u001B[0m\n\u001B[1;32m    154\u001B[0m                     \u001B[0merr\u001B[0m \u001B[0;34m=\u001B[0m \u001B[0;34m\"Could not interpret input '{}'\"\u001B[0m\u001B[0;34m.\u001B[0m\u001B[0mformat\u001B[0m\u001B[0;34m(\u001B[0m\u001B[0minput\u001B[0m\u001B[0;34m)\u001B[0m\u001B[0;34m\u001B[0m\u001B[0;34m\u001B[0m\u001B[0m\n\u001B[0;32m--> 155\u001B[0;31m                     \u001B[0;32mraise\u001B[0m \u001B[0mValueError\u001B[0m\u001B[0;34m(\u001B[0m\u001B[0merr\u001B[0m\u001B[0;34m)\u001B[0m\u001B[0;34m\u001B[0m\u001B[0;34m\u001B[0m\u001B[0m\n\u001B[0m\u001B[1;32m    156\u001B[0m \u001B[0;34m\u001B[0m\u001B[0m\n\u001B[1;32m    157\u001B[0m             \u001B[0;31m# Figure out the plotting orientation\u001B[0m\u001B[0;34m\u001B[0m\u001B[0;34m\u001B[0m\u001B[0;34m\u001B[0m\u001B[0m\n",
      "\u001B[0;31mValueError\u001B[0m: Could not interpret input 'Input'"
     ]
    }
   ],
   "source": [
    "location_model_list = [\n",
    "    # 'FCNClassifier_setsize2000_original',\n",
    "    # 'FCNClassifier_setsize2000_AE_z32_base',\n",
    "    # 'FCNClassifier_setsize2000_AE_z32_type1',\n",
    "    # 'FCNClassifier_setsize2000_AE_z32_type2',\n",
    "    # 'FCNClassifier_setsize2000_AE_z64_base',\n",
    "    'FCNClassifier_setsize2000_AE_z64_type1',\n",
    "    # 'FCNClassifier_setsize2000_AE_z64_type5',\n",
    "    # 'FCNClassifier_setsize2000_AE_z16_type5',\n",
    "]\n",
    "bar_plot_class_acc('location', location_model_list)\n",
    "bar_plot_attack_acc('location', location_model_list)\n"
   ],
   "metadata": {
    "collapsed": false,
    "pycharm": {
     "name": "#%%\n"
    }
   }
  }
 ],
 "metadata": {
  "kernelspec": {
   "display_name": "Python 3",
   "language": "python",
   "name": "python3"
  },
  "language_info": {
   "codemirror_mode": {
    "name": "ipython",
    "version": 2
   },
   "file_extension": ".py",
   "mimetype": "text/x-python",
   "name": "python",
   "nbconvert_exporter": "python",
   "pygments_lexer": "ipython2",
   "version": "2.7.6"
  }
 },
 "nbformat": 4,
 "nbformat_minor": 0
}