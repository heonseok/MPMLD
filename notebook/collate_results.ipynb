{
 "cells": [
  {
   "cell_type": "code",
   "execution_count": 1,
   "metadata": {
    "collapsed": true
   },
   "outputs": [],
   "source": [
    "import os\n",
    "import numpy as np\n",
    "\n",
    "base_path = '/mnt/disk1/heonseok/MPMLD/output'"
   ]
  },
  {
   "cell_type": "code",
   "execution_count": 27,
   "outputs": [],
   "source": [
    "dataset = 'location'\n",
    "location_recon_model_list = [\n",
    "    'AE_z64_setsize2000_lr0.001_ref0.1_arcA_type5_cw0.01_mw0.01',\n",
    "    # 'AE_z64_setsize2000_lr0.01_ref0.1_arcA_type5_cw0.01_mw0.01',\n",
    "    # 'AE_z64_setsize2000_lr0.1_ref0.1_arcA_type5_cw0.01_mw0.01',\n",
    "    #\n",
    "    # 'AE_z64_setsize2000_lr0.001_ref0.1_arcA_type5_cw0.1_mw0.01',\n",
    "    # 'AE_z64_setsize2000_lr0.01_ref0.1_arcA_type5_cw0.1_mw0.01',\n",
    "    # 'AE_z64_setsize2000_lr0.1_ref0.1_arcA_type5_cw0.1_mw0.01',\n",
    "    #\n",
    "    # 'AE_z64_setsize2000_lr0.001_ref0.1_arcA_type5_cw0.01_mw0.1',\n",
    "    # 'AE_z64_setsize2000_lr0.01_ref0.1_arcA_type5_cw0.01_mw0.1',\n",
    "    # 'AE_z64_setsize2000_lr0.1_ref0.1_arcA_type5_cw0.01_mw0.1',\n",
    "    #\n",
    "    # 'AE_z64_setsize2000_lr0.001_ref0.1_arcA_type5_cw0.1_mw0.1',\n",
    "    # 'AE_z64_setsize2000_lr0.01_ref0.1_arcA_type5_cw0.1_mw0.1',\n",
    "    # 'AE_z64_setsize2000_lr0.1_ref0.1_arcA_type5_cw0.1_mw0.1',\n",
    "    #\n",
    "    # 'AE_z64_setsize2000_lr0.001_ref0.1_arcA_type5_cw1.0_mw0.1',\n",
    "    # 'AE_z64_setsize2000_lr0.01_ref0.1_arcA_type5_cw1.0_mw0.1',\n",
    "    # 'AE_z64_setsize2000_lr0.1_ref0.1_arcA_type5_cw1.0_mw0.1',\n",
    "    #\n",
    "    # 'AE_z64_setsize2000_lr0.001_ref0.1_arcA_type5_cw0.1_mw1.0',\n",
    "    # 'AE_z64_setsize2000_lr0.01_ref0.1_arcA_type5_cw0.1_mw1.0',\n",
    "    # 'AE_z64_setsize2000_lr0.1_ref0.1_arcA_type5_cw0.1_mw1.0',\n",
    "    #\n",
    "    # 'AE_z64_setsize2000_lr0.001_ref0.1_arcA_type5_cw1.0_mw1.0',\n",
    "    # 'AE_z64_setsize2000_lr0.01_ref0.1_arcA_type5_cw1.0_mw1.0',\n",
    "    # 'AE_z64_setsize2000_lr0.1_ref0.1_arcA_type5_cw1.0_mw1.0',\n",
    "]"
   ],
   "metadata": {
    "collapsed": false,
    "pycharm": {
     "name": "#%%\n"
    }
   }
  },
  {
   "cell_type": "code",
   "execution_count": 26,
   "outputs": [
    {
     "name": "stdout",
     "output_type": "stream",
     "text": [
      "AE,z64,setsize2000,lr0.001,ref0.1,arcA,type5,cw0.01,mw0.01,0.5894,0.5298,0.0729,0.7390,0.6172,0.7574\n",
      "AE,z64,setsize2000,lr0.01,ref0.1,arcA,type5,cw0.01,mw0.01,0.3514,0.3398,0.0644,0.5066,0.5184,0.5119\n",
      "AE,z64,setsize2000,lr0.1,ref0.1,arcA,type5,cw0.01,mw0.01,0.0639,0.0615,0.0572,0.5004,0.5000,0.5000\n",
      "AE,z64,setsize2000,lr0.001,ref0.1,arcA,type5,cw0.1,mw0.01,0.5997,0.5889,0.0655,0.5713,0.6264,0.5775\n",
      "AE,z64,setsize2000,lr0.01,ref0.1,arcA,type5,cw0.1,mw0.01,0.4763,0.4789,0.0655,0.5108,0.5099,0.5000\n",
      "AE,z64,setsize2000,lr0.1,ref0.1,arcA,type5,cw0.1,mw0.01,0.0678,0.0587,0.0602,0.5000,0.5000,0.5000\n",
      "AE,z64,setsize2000,lr0.001,ref0.1,arcA,type5,cw0.01,mw0.1,0.5842,0.5374,0.0701,0.5003,0.5000,0.6392\n",
      "AE,z64,setsize2000,lr0.01,ref0.1,arcA,type5,cw0.01,mw0.1,0.5424,0.5347,0.0655,0.5329,0.5000,0.5000\n",
      "AE,z64,setsize2000,lr0.1,ref0.1,arcA,type5,cw0.01,mw0.1,0.0664,0.0597,0.0612,0.4995,0.5000,0.5000\n",
      "AE,z64,setsize2000,lr0.001,ref0.1,arcA,type5,cw0.1,mw0.1,0.6038,0.5509,0.0654,0.5000,0.5000,0.5552\n",
      "AE,z64,setsize2000,lr0.01,ref0.1,arcA,type5,cw0.1,mw0.1,0.5020,0.5051,0.0655,0.5039,0.5000,0.5000\n",
      "AE,z64,setsize2000,lr0.1,ref0.1,arcA,type5,cw0.1,mw0.1,0.0604,0.0593,0.0545,0.5000,0.4995,0.5000\n",
      "AE,z64,setsize2000,lr0.001,ref0.1,arcA,type5,cw1.0,mw0.1,0.6033,0.5710,0.0656,0.5000,0.5000,0.5090\n",
      "AE,z64,setsize2000,lr0.01,ref0.1,arcA,type5,cw1.0,mw0.1,0.5069,0.5012,0.0655,0.5000,0.5002,0.5000\n",
      "AE,z64,setsize2000,lr0.1,ref0.1,arcA,type5,cw1.0,mw0.1,0.0611,0.0570,0.0622,0.4999,0.5000,0.4999\n",
      "AE,z64,setsize2000,lr0.001,ref0.1,arcA,type5,cw0.1,mw1.0,0.5098,0.5146,0.0655,0.5000,0.5000,0.5228\n",
      "AE,z64,setsize2000,lr0.01,ref0.1,arcA,type5,cw0.1,mw1.0,0.3706,0.3730,0.0655,0.5000,0.5000,0.5000\n",
      "AE,z64,setsize2000,lr0.1,ref0.1,arcA,type5,cw0.1,mw1.0,0.0595,0.0580,0.0581,0.4998,0.5000,0.5000\n",
      "AE,z64,setsize2000,lr0.001,ref0.1,arcA,type5,cw1.0,mw1.0,0.5492,0.5273,0.0655,0.5000,0.5000,0.5005\n",
      "AE,z64,setsize2000,lr0.01,ref0.1,arcA,type5,cw1.0,mw1.0,0.3905,0.3289,0.0654,0.5454,0.5000,0.5177\n",
      "AE,z64,setsize2000,lr0.1,ref0.1,arcA,type5,cw1.0,mw1.0,0.0587,0.0576,0.0586,0.5005,0.5000,0.5000\n"
     ]
    }
   ],
   "source": [
    "for recon_model in location_recon_model_list:\n",
    "    recon_path = os.path.join(base_path, dataset, 'reconstructor', recon_model)\n",
    "\n",
    "    class_acc_full_list = []\n",
    "    class_acc_content_list = []\n",
    "    class_acc_style_list = []\n",
    "    membership_acc_full_list = []\n",
    "    membership_acc_content_list = []\n",
    "    membership_acc_style_list = []\n",
    "\n",
    "    for repeat in range(5):\n",
    "        try:\n",
    "            recon_repeat_path = os.path.join(recon_path, 'repeat{}'.format(repeat))\n",
    "            recon_acc_path = os.path.join(recon_repeat_path, 'acc.npy')\n",
    "            recon_acc = np.load(recon_acc_path, allow_pickle=True).item()\n",
    "\n",
    "            class_acc_full_list.append(recon_acc['class_acc_full'])\n",
    "            class_acc_content_list.append(recon_acc['class_acc_content'])\n",
    "            class_acc_style_list.append(recon_acc['class_acc_style'])\n",
    "            membership_acc_full_list.append(recon_acc['membership_acc_full'])\n",
    "            membership_acc_content_list.append(recon_acc['membership_acc_content'])\n",
    "            membership_acc_style_list.append(recon_acc['membership_acc_style'])\n",
    "\n",
    "        except FileNotFoundError:\n",
    "            # print('File not found: ', recon_acc_path)\n",
    "            continue\n",
    "\n",
    "    result_list = [\n",
    "        *recon_model.split('_'),\n",
    "        np.average(class_acc_full_list), np.average(class_acc_content_list), np.average(class_acc_style_list),\n",
    "        np.average(membership_acc_full_list), np.average(membership_acc_content_list), np.average(membership_acc_style_list)\n",
    "    ]\n",
    "\n",
    "    for idx, result in enumerate(result_list):\n",
    "        if not type(result) is str:\n",
    "            result_list[idx] = '{:.4f}'.format(result)\n",
    "    print(','.join(result_list))\n"
   ],
   "metadata": {
    "collapsed": false,
    "pycharm": {
     "name": "#%%\n"
    }
   }
  },
  {
   "cell_type": "code",
   "execution_count": 31,
   "outputs": [
    {
     "name": "stdout",
     "output_type": "stream",
     "text": [
      "0.6500,0.5980,0.5770,0.5020,0.3290,0.2855,0.0660,0.0735,0.0590\n"
     ]
    }
   ],
   "source": [
    "for recon_model in location_recon_model_list:\n",
    "    class_path = os.path.join(base_path, dataset, 'classifier', recon_model+'_FCNClassifierA')\n",
    "\n",
    "    result_list = []\n",
    "    for recon_type in ['full_z', 'content_z', 'style_z']:\n",
    "        train_acc_list = []\n",
    "        valid_acc_list = []\n",
    "        test_acc_list = []\n",
    "        for repeat in range(5):\n",
    "            try:\n",
    "                class_repeat_path = os.path.join(class_path, recon_type, 'repeat{}'.format(repeat))\n",
    "                class_acc = np.load(os.path.join(class_repeat_path, 'acc.npy'), allow_pickle=True).item()\n",
    "                train_acc_list.append(class_acc['train'])\n",
    "                valid_acc_list.append(class_acc['valid'])\n",
    "                test_acc_list.append(class_acc['test'])\n",
    "\n",
    "            except FileNotFoundError:\n",
    "                print('File not found: ', class_repeat_path)\n",
    "                continue\n",
    "\n",
    "        result_list.extend([np.average(train_acc_list), np.average(valid_acc_list), np.average(test_acc_list)])\n",
    "\n",
    "    for idx, result in enumerate(result_list):\n",
    "        if not type(result) is str:\n",
    "            result_list[idx] = '{:.4f}'.format(result)\n",
    "    print(','.join(result_list))"
   ],
   "metadata": {
    "collapsed": false,
    "pycharm": {
     "name": "#%%\n"
    }
   }
  }
 ],
 "metadata": {
  "kernelspec": {
   "display_name": "Python 3",
   "language": "python",
   "name": "python3"
  },
  "language_info": {
   "codemirror_mode": {
    "name": "ipython",
    "version": 2
   },
   "file_extension": ".py",
   "mimetype": "text/x-python",
   "name": "python",
   "nbconvert_exporter": "python",
   "pygments_lexer": "ipython2",
   "version": "2.7.6"
  }
 },
 "nbformat": 4,
 "nbformat_minor": 0
}