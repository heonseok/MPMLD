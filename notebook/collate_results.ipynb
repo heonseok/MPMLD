{
 "cells": [
  {
   "cell_type": "code",
   "execution_count": 1,
   "metadata": {
    "collapsed": true
   },
   "outputs": [],
   "source": [
    "import os\n",
    "import numpy as np\n",
    "\n",
    "base_path = '/mnt/disk1/heonseok/MPMLD/output'"
   ]
  },
  {
   "cell_type": "code",
   "execution_count": 82,
   "outputs": [
    {
     "name": "stdout",
     "output_type": "stream",
     "text": [
      "'AE_z64_setsize2000_lr0.001_ref0.1_arcC_type5_cw0.01_mw0.01',\n",
      "'AE_z64_setsize2000_lr0.001_ref0.1_arcC_type5_cw0.01_mw0.1',\n",
      "'AE_z64_setsize2000_lr0.001_ref0.1_arcC_type5_cw0.01_mw1.0',\n",
      "'AE_z64_setsize2000_lr0.001_ref0.1_arcC_type5_cw0.1_mw0.01',\n",
      "'AE_z64_setsize2000_lr0.001_ref0.1_arcC_type5_cw0.1_mw0.1',\n",
      "'AE_z64_setsize2000_lr0.001_ref0.1_arcC_type5_cw0.1_mw1.0',\n",
      "'AE_z64_setsize2000_lr0.001_ref0.1_arcC_type5_cw1.0_mw0.01',\n",
      "'AE_z64_setsize2000_lr0.001_ref0.1_arcC_type5_cw1.0_mw0.1',\n",
      "'AE_z64_setsize2000_lr0.001_ref0.1_arcC_type5_cw1.0_mw1.0',\n"
     ]
    }
   ],
   "source": [
    "dataset = 'location'\n",
    "\n",
    "z_dim_list = [\n",
    "    # '16',\n",
    "    '64',\n",
    "]\n",
    "\n",
    "setsize_list = [\n",
    "    '2000',\n",
    "]\n",
    "\n",
    "lr_list = [\n",
    "    '0.001',\n",
    "    # '0.01',\n",
    "    # '0.1',\n",
    "]\n",
    "\n",
    "ref_list = [\n",
    "    '0.1',\n",
    "]\n",
    "\n",
    "arc_list = [\n",
    "    # 'A',\n",
    "    # 'B',\n",
    "    'C',\n",
    "]\n",
    "\n",
    "dis_type_list = [\n",
    "    'type5',\n",
    "]\n",
    "\n",
    "cw_list = [\n",
    "    '0.01',\n",
    "    '0.1',\n",
    "    '1.0',\n",
    "]\n",
    "\n",
    "mw_list = [\n",
    "    '0.01',\n",
    "    '0.1',\n",
    "    '1.0',\n",
    "]\n",
    "\n",
    "recon_model_list = []\n",
    "for z_dim in z_dim_list:\n",
    "    for setsize in setsize_list:\n",
    "        for lr in lr_list:\n",
    "            for ref in ref_list:\n",
    "                for arc in arc_list:\n",
    "                    for dis_type in dis_type_list:\n",
    "                        for cw in cw_list:\n",
    "                            for mw in mw_list:\n",
    "                                recon_model = 'AE_z{}_setsize{}_lr{}_ref{}_arc{}_{}_cw{}_mw{}'.format(\n",
    "                                    z_dim, setsize, lr, ref, arc, dis_type, cw, mw,\n",
    "                                )\n",
    "                                recon_model_list.append(recon_model)\n",
    "\n",
    "for recon_model in recon_model_list:\n",
    "    print('\\''+recon_model+'\\',')\n"
   ],
   "metadata": {
    "collapsed": false,
    "pycharm": {
     "name": "#%%\n"
    }
   }
  },
  {
   "cell_type": "code",
   "execution_count": 83,
   "outputs": [
    {
     "name": "stdout",
     "output_type": "stream",
     "text": [
      "AE,z64,setsize2000,lr0.001,ref0.1,arcC,type5,cw0.01,mw0.01,0.8648,0.7384,0.1299,0.9468,0.8252,0.8891\n",
      "AE,z64,setsize2000,lr0.001,ref0.1,arcC,type5,cw0.01,mw0.1,0.8575,0.7211,0.1383,0.8347,0.5001,0.8200\n",
      "AE,z64,setsize2000,lr0.001,ref0.1,arcC,type5,cw0.01,mw1.0,0.8519,0.7232,0.1353,0.6627,0.5000,0.8039\n",
      "AE,z64,setsize2000,lr0.001,ref0.1,arcC,type5,cw0.1,mw0.01,0.8434,0.7628,0.0671,0.9149,0.8406,0.8485\n",
      "AE,z64,setsize2000,lr0.001,ref0.1,arcC,type5,cw0.1,mw0.1,0.7864,0.7111,0.0647,0.6251,0.5161,0.7657\n",
      "AE,z64,setsize2000,lr0.001,ref0.1,arcC,type5,cw0.1,mw1.0,0.8397,0.7250,0.0676,0.5000,0.5000,0.7719\n",
      "AE,z64,setsize2000,lr0.001,ref0.1,arcC,type5,cw1.0,mw0.01,0.9057,0.7213,0.0655,0.9254,0.8527,0.6749\n",
      "AE,z64,setsize2000,lr0.001,ref0.1,arcC,type5,cw1.0,mw0.1,0.8589,0.6660,0.0655,0.7097,0.5000,0.6473\n",
      "AE,z64,setsize2000,lr0.001,ref0.1,arcC,type5,cw1.0,mw1.0,0.8531,0.7120,0.0655,0.4999,0.5000,0.6651\n"
     ]
    }
   ],
   "source": [
    "for recon_model in recon_model_list:\n",
    "    recon_path = os.path.join(base_path, dataset, 'reconstructor', recon_model)\n",
    "\n",
    "    class_acc_full_list = []\n",
    "    class_acc_content_list = []\n",
    "    class_acc_style_list = []\n",
    "    membership_acc_full_list = []\n",
    "    membership_acc_content_list = []\n",
    "    membership_acc_style_list = []\n",
    "\n",
    "    for repeat in range(5):\n",
    "        try:\n",
    "            recon_repeat_path = os.path.join(recon_path, 'repeat{}'.format(repeat))\n",
    "            recon_acc_path = os.path.join(recon_repeat_path, 'acc.npy')\n",
    "            recon_acc = np.load(recon_acc_path, allow_pickle=True).item()\n",
    "\n",
    "            class_acc_full_list.append(recon_acc['class_acc_full'])\n",
    "            class_acc_content_list.append(recon_acc['class_acc_content'])\n",
    "            class_acc_style_list.append(recon_acc['class_acc_style'])\n",
    "            membership_acc_full_list.append(recon_acc['membership_acc_full'])\n",
    "            membership_acc_content_list.append(recon_acc['membership_acc_content'])\n",
    "            membership_acc_style_list.append(recon_acc['membership_acc_style'])\n",
    "\n",
    "        except FileNotFoundError:\n",
    "            # print('File not found: ', recon_acc_path)\n",
    "            continue\n",
    "\n",
    "    result_list = [\n",
    "        *recon_model.split('_'),\n",
    "        np.average(class_acc_full_list), np.average(class_acc_content_list), np.average(class_acc_style_list),\n",
    "        np.average(membership_acc_full_list), np.average(membership_acc_content_list), np.average(membership_acc_style_list)\n",
    "    ]\n",
    "\n",
    "    for idx, result in enumerate(result_list):\n",
    "        if not type(result) is str:\n",
    "            result_list[idx] = '{:.4f}'.format(result)\n",
    "    print(','.join(result_list))\n"
   ],
   "metadata": {
    "collapsed": false,
    "pycharm": {
     "name": "#%%\n"
    }
   }
  },
  {
   "cell_type": "code",
   "execution_count": 77,
   "outputs": [
    {
     "name": "stdout",
     "output_type": "stream",
     "text": [
      "0.6500,0.5980,0.5770,0.5020,0.3290,0.2855,0.0660,0.0735,0.0590\n",
      "0.6691,0.5785,0.5665,0.5332,0.2615,0.2130,0.0655,0.0710,0.0560\n",
      "0.6603,0.5735,0.5550,0.5602,0.4070,0.3640,0.0651,0.0730,0.0510\n",
      "0.6993,0.6135,0.5835,0.5506,0.4145,0.3705,0.0651,0.0740,0.0545\n",
      "0.6815,0.5960,0.5645,0.5181,0.3125,0.2835,0.0655,0.0770,0.0540\n",
      "0.6494,0.5715,0.5350,0.5924,0.4785,0.4465,0.0676,0.0810,0.0540\n",
      "0.6941,0.6200,0.5845,0.6083,0.4705,0.4275,0.0586,0.0690,0.0615\n",
      "0.6888,0.6035,0.5760,0.5965,0.4905,0.4430,0.0625,0.0740,0.0530\n",
      "0.6748,0.5830,0.5465,0.5731,0.4420,0.3935,0.0659,0.0795,0.0530\n",
      "0.3622,0.3980,0.3635,0.3613,0.3860,0.3505,0.0624,0.0730,0.0530\n",
      "0.5369,0.5180,0.4900,0.5345,0.5135,0.4880,0.0639,0.0725,0.0520\n",
      "0.4310,0.4480,0.3950,0.4362,0.4430,0.3945,0.0623,0.0740,0.0535\n",
      "0.4855,0.4990,0.4710,0.4942,0.4950,0.4740,0.0655,0.0750,0.0550\n",
      "0.4976,0.4700,0.4350,0.5005,0.4635,0.4385,0.0655,0.0735,0.0545\n",
      "0.4156,0.3980,0.3670,0.4217,0.3885,0.3570,0.0655,0.0725,0.0525\n",
      "0.5283,0.5145,0.4845,0.5327,0.5175,0.4800,0.0596,0.0760,0.0535\n",
      "0.4924,0.4655,0.4445,0.4905,0.4645,0.4365,0.0655,0.0730,0.0505\n",
      "0.3960,0.4010,0.3565,0.3502,0.3325,0.2915,0.0984,0.0945,0.0745\n",
      "0.0655,0.0730,0.0550,0.0644,0.0730,0.0500,0.0654,0.0780,0.0525\n",
      "0.0669,0.0750,0.0550,0.0646,0.0735,0.0540,0.0677,0.0755,0.0525\n",
      "0.0655,0.0740,0.0540,0.0632,0.0765,0.0530,0.0614,0.0720,0.0540\n",
      "0.0658,0.0880,0.0665,0.0655,0.0765,0.0500,0.0741,0.0925,0.0650\n",
      "0.0641,0.0755,0.0490,0.0606,0.0660,0.0490,0.0655,0.0740,0.0595\n",
      "0.0659,0.0790,0.0575,0.0623,0.0755,0.0530,0.0670,0.0775,0.0550\n",
      "0.0657,0.0760,0.0575,0.0662,0.0750,0.0470,0.0656,0.0730,0.0470\n",
      "0.0711,0.0815,0.0635,0.0567,0.0775,0.0560,0.0655,0.0785,0.0570\n",
      "0.0656,0.0730,0.0520,0.0593,0.0735,0.0550,0.0647,0.0735,0.0555\n"
     ]
    }
   ],
   "source": [
    "for recon_model in recon_model_list:\n",
    "    class_path = os.path.join(base_path, dataset, 'classifier', recon_model+'_FCNClassifierA')\n",
    "\n",
    "    result_list = []\n",
    "    for recon_type in ['full_z', 'content_z', 'style_z']:\n",
    "        train_acc_list = []\n",
    "        valid_acc_list = []\n",
    "        test_acc_list = []\n",
    "        for repeat in range(5):\n",
    "            try:\n",
    "                class_repeat_path = os.path.join(class_path, recon_type, 'repeat{}'.format(repeat))\n",
    "                class_acc = np.load(os.path.join(class_repeat_path, 'acc.npy'), allow_pickle=True).item()\n",
    "                train_acc_list.append(class_acc['train'])\n",
    "                valid_acc_list.append(class_acc['valid'])\n",
    "                test_acc_list.append(class_acc['test'])\n",
    "\n",
    "            except FileNotFoundError:\n",
    "                # print('File not found: ', class_repeat_path)\n",
    "                continue\n",
    "\n",
    "        result_list.extend([np.average(train_acc_list), np.average(valid_acc_list), np.average(test_acc_list)])\n",
    "\n",
    "    for idx, result in enumerate(result_list):\n",
    "        if not type(result) is str:\n",
    "            result_list[idx] = '{:.4f}'.format(result)\n",
    "    print(','.join(result_list))"
   ],
   "metadata": {
    "collapsed": false,
    "pycharm": {
     "name": "#%%\n"
    }
   }
  },
  {
   "cell_type": "code",
   "execution_count": 40,
   "outputs": [
    {
     "name": "stdout",
     "output_type": "stream",
     "text": [
      "0.942 0.685 0.6535\n"
     ]
    }
   ],
   "source": [
    "classifier_with_raw_data = 'original_setsize2000_FCNClassifierA'\n",
    "class_path = os.path.join(base_path, dataset, 'classifier', classifier_with_raw_data)\n",
    "train_acc_list = []\n",
    "valid_acc_list = []\n",
    "test_acc_list = []\n",
    "for repeat in range(5):\n",
    "    try:\n",
    "        class_repeat_path = os.path.join(class_path, 'repeat{}'.format(repeat))\n",
    "        class_acc = np.load(os.path.join(class_repeat_path, 'acc.npy'), allow_pickle=True).item()\n",
    "        train_acc_list.append(class_acc['train'])\n",
    "        valid_acc_list.append(class_acc['valid'])\n",
    "        test_acc_list.append(class_acc['test'])\n",
    "\n",
    "    except FileNotFoundError:\n",
    "        print('File not found: ', class_repeat_path)\n",
    "        continue\n",
    "\n",
    "print(np.average(train_acc_list), np.average(valid_acc_list), np.average(test_acc_list))\n",
    "\n"
   ],
   "metadata": {
    "collapsed": false,
    "pycharm": {
     "name": "#%% original_setsize2000\n"
    }
   }
  }
 ],
 "metadata": {
  "kernelspec": {
   "display_name": "Python 3",
   "language": "python",
   "name": "python3"
  },
  "language_info": {
   "codemirror_mode": {
    "name": "ipython",
    "version": 2
   },
   "file_extension": ".py",
   "mimetype": "text/x-python",
   "name": "python",
   "nbconvert_exporter": "python",
   "pygments_lexer": "ipython2",
   "version": "2.7.6"
  }
 },
 "nbformat": 4,
 "nbformat_minor": 0
}