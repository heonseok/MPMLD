{
 "cells": [
  {
   "cell_type": "code",
   "execution_count": 3,
   "metadata": {
    "collapsed": true
   },
   "outputs": [],
   "source": [
    "import os\n",
    "import numpy as np\n",
    "\n",
    "base_path = '/mnt/disk1/heonseok/MPMLD/output'"
   ]
  },
  {
   "cell_type": "code",
   "execution_count": 1,
   "outputs": [
    {
     "name": "stdout",
     "output_type": "stream",
     "text": [
      "'VAE0.001_z256_setsize1000_lr0.001_ref0.1_arcE_type5_cw1.0_mw1.0',\n",
      "'VAE0.001_z256_setsize1000_lr0.001_ref0.1_arcE_type5_cw1.0_mw1.0_FCNClassifierA',\n"
     ]
    }
   ],
   "source": [
    "dataset = 'location'\n",
    "\n",
    "beta_list = [\n",
    "    # 0.000001,\n",
    "    # 0.00001,\n",
    "    # 0.0001,\n",
    "    0.001,\n",
    "    # 0.01,\n",
    "    # 0.1,\n",
    "    # 1.0,\n",
    "]\n",
    "\n",
    "z_dim_list = [\n",
    "    # '16',\n",
    "    # '64',\n",
    "    # '128'\n",
    "    '256',\n",
    "]\n",
    "\n",
    "setsize_list = [\n",
    "    # '500',\n",
    "    '1000',\n",
    "    # '2000',\n",
    "]\n",
    "\n",
    "lr_list = [\n",
    "    '0.001',\n",
    "    # '0.01',\n",
    "    # '0.1',\n",
    "]\n",
    "\n",
    "ref_list = [\n",
    "    '0.1',\n",
    "]\n",
    "\n",
    "arc_list = [\n",
    "    # 'A',\n",
    "    # 'B',\n",
    "    # 'C',\n",
    "    # 'D',\n",
    "    'E',\n",
    "]\n",
    "\n",
    "dis_type_list = [\n",
    "    # 'base',\n",
    "    'type5',\n",
    "]\n",
    "\n",
    "cw_list = [\n",
    "    # '0.01',\n",
    "    # '0.1',\n",
    "    # '1.0',\n",
    "    '1.0',\n",
    "]\n",
    "\n",
    "mw_list = [\n",
    "    # '0.01',\n",
    "    # '0.1',\n",
    "    '1.0',\n",
    "    # '10.0',\n",
    "    # '20.0',\n",
    "]\n",
    "\n",
    "recon_model_list = []\n",
    "for beta in beta_list:\n",
    "    for z_dim in z_dim_list:\n",
    "        for setsize in setsize_list:\n",
    "            for lr in lr_list:\n",
    "                for ref in ref_list:\n",
    "                    for arc in arc_list:\n",
    "                        for dis_type in dis_type_list:\n",
    "                            if 'base' in dis_type:\n",
    "                                recon_model = 'VAE{}_z{}_setsize{}_lr{}_ref{}_arc{}_{}'.format(\n",
    "                                    beta, z_dim, setsize, lr, ref, arc, dis_type,\n",
    "                                )\n",
    "                                recon_model_list.append(recon_model)\n",
    "                                continue\n",
    "                            for cw in cw_list:\n",
    "                                for mw in mw_list:\n",
    "                                    recon_model = 'VAE{}_z{}_setsize{}_lr{}_ref{}_arc{}_{}_cw{}_mw{}'.format(\n",
    "                                        beta, z_dim, setsize, lr, ref, arc, dis_type, cw, mw,\n",
    "                                    )\n",
    "                                    recon_model_list.append(recon_model)\n",
    "\n",
    "for recon_model in recon_model_list:\n",
    "    print('\\''+recon_model+'\\',')\n",
    "\n",
    "class_model_list = []\n",
    "for idx in range(len(recon_model_list)):\n",
    "    class_model_list.append(recon_model_list[idx] + '_FCNClassifierA')\n",
    "    print('\\''+class_model_list[idx]+'\\',')"
   ],
   "metadata": {
    "collapsed": false,
    "pycharm": {
     "name": "#%%\n"
    }
   }
  },
  {
   "cell_type": "code",
   "execution_count": 138,
   "outputs": [
    {
     "name": "stdout",
     "output_type": "stream",
     "text": [
      "'VAE0.001_z128_setsize1000_lr0.001_ref0.1_arcD_base',\n",
      "0.0062,0.0125,0.0124,0.0121,0.0071,0.0133,0.0131,0.0129,0.0071,0.0133,0.0131,0.0129,0.0081,0.0141,0.0139,0.0137,0.0122,0.0161,0.0158,0.0155,0.0120,0.0159,0.0159,0.0155,0.0128,0.0164,0.0162,0.0159,0.0141,0.0173,0.0171,0.0168\n"
     ]
    }
   ],
   "source": [
    "for recon_model in recon_model_list:\n",
    "    print('\\''+recon_model+'\\',')\n",
    "\n",
    "for recon_model in recon_model_list:\n",
    "    recon_path = os.path.join(base_path, dataset, 'reconstructor', recon_model)\n",
    "\n",
    "    # class_acc_full_list = []\n",
    "    # class_acc_content_list = []\n",
    "    # class_acc_style_list = []\n",
    "    # membership_acc_full_list = []\n",
    "    # membership_acc_content_list = []\n",
    "    # membership_acc_style_list = []\n",
    "\n",
    "    for repeat in range(5):\n",
    "        try:\n",
    "            recon_repeat_path = os.path.join(recon_path, 'repeat{}'.format(repeat))\n",
    "            recon_mse_path = os.path.join(recon_repeat_path, 'mse.npy')\n",
    "            recon_mse = np.load(recon_mse_path, allow_pickle=True)\n",
    "            # print(recon_mse)\n",
    "\n",
    "            if repeat == 0:\n",
    "                mse_list = recon_mse\n",
    "            else:\n",
    "                mse_list += recon_mse\n",
    "            # class_acc_full_list.append(recon_acc['class_acc_full'])\n",
    "            # class_acc_content_list.append(recon_acc['class_acc_content'])\n",
    "            # class_acc_style_list.append(recon_acc['class_acc_style'])\n",
    "            # membership_acc_full_list.append(recon_acc['membership_acc_full'])\n",
    "            # membership_acc_content_list.append(recon_acc['membership_acc_content'])\n",
    "            # membership_acc_style_list.append(recon_acc['membership_acc_style'])\n",
    "\n",
    "        except FileNotFoundError:\n",
    "            # print('File not found: ', recon_acc_path)\n",
    "            continue\n",
    "\n",
    "    mse_list = mse_list/5\n",
    "\n",
    "    result_list = []\n",
    "    for idx, mse in enumerate(mse_list):\n",
    "        result_list.append('{:.4f}'.format(mse))\n",
    "    print(','.join(result_list))\n",
    "\n",
    "    # result_list = [\n",
    "    #     *recon_model.split('_'),\n",
    "    #     np.average(class_acc_full_list), np.average(class_acc_content_list), np.average(class_acc_style_list),\n",
    "    #     np.average(membership_acc_full_list), np.average(membership_acc_content_list), np.average(membership_acc_style_list)\n",
    "    # ]\n",
    "    #\n",
    "    # for idx, result in enumerate(result_list):\n",
    "    #     if not type(result) is str:\n",
    "    #         result_list[idx] = '{:.4f}'.format(result)\n",
    "    # print(','.join(result_list))"
   ],
   "metadata": {
    "collapsed": false,
    "pycharm": {
     "name": "#%% Reconstruction\n"
    }
   }
  },
  {
   "cell_type": "code",
   "execution_count": 4,
   "outputs": [
    {
     "name": "stdout",
     "output_type": "stream",
     "text": [
      "'VAE0.001_z256_setsize1000_lr0.001_ref0.1_arcE_type5_cw1.0_mw1.0',\n",
      "VAE0.001,z256,setsize1000,lr0.001,ref0.1,arcE,type5,cw1.0,mw1.0,0.5448,0.4818,0.0700,0.7436,0.5001,0.6503\n"
     ]
    }
   ],
   "source": [
    "for recon_model in recon_model_list:\n",
    "    print('\\''+recon_model+'\\',')\n",
    "\n",
    "for recon_model in recon_model_list:\n",
    "    recon_path = os.path.join(base_path, dataset, 'reconstructor', recon_model)\n",
    "\n",
    "    class_acc_full_list = []\n",
    "    class_acc_content_list = []\n",
    "    class_acc_style_list = []\n",
    "    membership_acc_full_list = []\n",
    "    membership_acc_content_list = []\n",
    "    membership_acc_style_list = []\n",
    "\n",
    "    for repeat in range(5):\n",
    "        try:\n",
    "            recon_repeat_path = os.path.join(recon_path, 'repeat{}'.format(repeat))\n",
    "            recon_acc_path = os.path.join(recon_repeat_path, 'acc.npy')\n",
    "            recon_acc = np.load(recon_acc_path, allow_pickle=True).item()\n",
    "\n",
    "            class_acc_full_list.append(recon_acc['class_acc_full'])\n",
    "            class_acc_content_list.append(recon_acc['class_acc_content'])\n",
    "            class_acc_style_list.append(recon_acc['class_acc_style'])\n",
    "            membership_acc_full_list.append(recon_acc['membership_acc_full'])\n",
    "            membership_acc_content_list.append(recon_acc['membership_acc_content'])\n",
    "            membership_acc_style_list.append(recon_acc['membership_acc_style'])\n",
    "\n",
    "        except FileNotFoundError:\n",
    "            # print('File not found: ', recon_acc_path)\n",
    "            continue\n",
    "\n",
    "    result_list = [\n",
    "        *recon_model.split('_'),\n",
    "        np.average(class_acc_full_list), np.average(class_acc_content_list), np.average(class_acc_style_list),\n",
    "        np.average(membership_acc_full_list), np.average(membership_acc_content_list), np.average(membership_acc_style_list)\n",
    "    ]\n",
    "\n",
    "    for idx, result in enumerate(result_list):\n",
    "        if not type(result) is str:\n",
    "            result_list[idx] = '{:.4f}'.format(result)\n",
    "    print(','.join(result_list))\n"
   ],
   "metadata": {
    "collapsed": false,
    "pycharm": {
     "name": "#%% Disentanglement\n"
    }
   }
  },
  {
   "cell_type": "code",
   "execution_count": 5,
   "outputs": [
    {
     "name": "stdout",
     "output_type": "stream",
     "text": [
      "'VAE0.001_z256_setsize1000_lr0.001_ref0.1_arcE_type5_cw1.0_mw1.0_FCNClassifierA',\n",
      "0.5770,0.5600,0.5438,0.5225,0.1730,0.5110,0.4963,0.4850\n"
     ]
    }
   ],
   "source": [
    "for class_model in class_model_list:\n",
    "    print('\\''+class_model+'\\',')\n",
    "\n",
    "for class_model in class_model_list:\n",
    "    class_path = os.path.join(base_path, dataset, 'classifier', class_model)\n",
    "\n",
    "    result_list = []\n",
    "    for recon_type in ['base_z', 'content_z', 'style_z', 'full_z', 'zero_content', 'zero_style', 'uniform_style', 'normal_style']:\n",
    "        train_acc_list = []\n",
    "        valid_acc_list = []\n",
    "        test_acc_list = []\n",
    "        for repeat in range(5):\n",
    "            try:\n",
    "                class_repeat_path = os.path.join(class_path, recon_type, 'repeat{}'.format(repeat))\n",
    "                class_acc = np.load(os.path.join(class_repeat_path, 'acc.npy'), allow_pickle=True).item()\n",
    "                train_acc_list.append(class_acc['train'])\n",
    "                valid_acc_list.append(class_acc['valid'])\n",
    "                test_acc_list.append(class_acc['test'])\n",
    "\n",
    "            except FileNotFoundError:\n",
    "                # print('File not found: ', class_repeat_path)\n",
    "                continue\n",
    "\n",
    "        result_list.extend([\n",
    "            # np.average(train_acc_list),\n",
    "            # np.average(valid_acc_list),\n",
    "            np.average(test_acc_list)\n",
    "        ])\n",
    "\n",
    "    for idx, result in enumerate(result_list):\n",
    "        if not type(result) is str:\n",
    "            result_list[idx] = '{:.4f}'.format(result)\n",
    "    print(','.join(result_list))\n"
   ],
   "metadata": {
    "collapsed": false,
    "pycharm": {
     "name": "#%% Classification\n"
    }
   }
  },
  {
   "cell_type": "code",
   "execution_count": 7,
   "outputs": [
    {
     "name": "stdout",
     "output_type": "stream",
     "text": [
      "'VAE0.001_z256_setsize1000_lr0.001_ref0.1_arcE_type5_cw1.0_mw1.0_FCNClassifierA',\n",
      "0.5667,nan,nan,nan,0.5367,0.5233,nan,nan\n"
     ]
    }
   ],
   "source": [
    "metric = 'acc'\n",
    "# metric = 'auroc'\n",
    "\n",
    "attack_type_list = [\n",
    "    # 'stat',\n",
    "    'black',\n",
    "    # 'white',\n",
    "]\n",
    "for class_model in class_model_list:\n",
    "    print('\\''+class_model+'\\',')\n",
    "\n",
    "for class_model in class_model_list:\n",
    "    attack_path = os.path.join(base_path, dataset, 'attacker', class_model)\n",
    "\n",
    "    result_list = []\n",
    "    for recon_type in ['base_z', 'content_z', 'style_z', 'full_z', 'zero_content', 'zero_style', 'uniform_style', 'normal_style']:\n",
    "        acc_list = []\n",
    "        # white_acc_list = []\n",
    "        for repeat in range(5):\n",
    "            for attack_type in attack_type_list:\n",
    "                attack_repeat_path = os.path.join(attack_path, recon_type, 'repeat{}'.format(repeat))\n",
    "                try:\n",
    "                    attack_acc = np.load(os.path.join(attack_repeat_path, attack_type, '{}.npy'.format(metric)), allow_pickle=True)\n",
    "                    if attack_type == 'stat':\n",
    "                        acc_list.append(attack_acc)\n",
    "                    elif attack_type == 'black':\n",
    "                        acc_list.append(attack_acc.item()['test'])\n",
    "                    # elif attack_type == 'white':\n",
    "                    #     white_acc_list.append(attack_acc.item()['test'])\n",
    "\n",
    "                except FileNotFoundError:\n",
    "                    # print('File not found: ', attack_repeat_path)\n",
    "                    continue\n",
    "\n",
    "        result_list.extend([np.average(acc_list)])\n",
    "\n",
    "    for idx, result in enumerate(result_list):\n",
    "        if not type(result) is str:\n",
    "            result_list[idx] = '{:.4f}'.format(result)\n",
    "    print(','.join(result_list))\n"
   ],
   "metadata": {
    "collapsed": false,
    "pycharm": {
     "name": "#%% Attack\n"
    }
   }
  },
  {
   "cell_type": "code",
   "execution_count": 135,
   "outputs": [
    {
     "name": "stdout",
     "output_type": "stream",
     "text": [
      "0.9486 0.6470 0.5900 0.6420 nan\n"
     ]
    },
    {
     "name": "stderr",
     "output_type": "stream",
     "text": [
      "/home/heonseok/anaconda3/envs/pysyft/lib/python3.7/site-packages/numpy/lib/function_base.py:390: RuntimeWarning: Mean of empty slice.\n",
      "  avg = a.mean(axis)\n",
      "/home/heonseok/anaconda3/envs/pysyft/lib/python3.7/site-packages/numpy/core/_methods.py:161: RuntimeWarning: invalid value encountered in double_scalars\n",
      "  ret = ret.dtype.type(ret / rcount)\n"
     ]
    }
   ],
   "source": [
    "metric = 'acc'\n",
    "# metric = 'auroc'\n",
    "\n",
    "classifier_with_raw_data = 'original_setsize1000_FCNClassifierA'\n",
    "class_path = os.path.join(base_path, dataset, 'classifier', classifier_with_raw_data)\n",
    "attack_path = os.path.join(base_path, dataset, 'attacker', classifier_with_raw_data)\n",
    "train_acc_list = []\n",
    "valid_acc_list = []\n",
    "test_acc_list = []\n",
    "stat_acc_list = []\n",
    "black_acc_list = []\n",
    "for repeat in range(5):\n",
    "    try:\n",
    "        class_repeat_path = os.path.join(class_path, 'repeat{}'.format(repeat))\n",
    "        attack_repeat_path = os.path.join(attack_path, 'repeat{}'.format(repeat))\n",
    "\n",
    "        class_acc = np.load(os.path.join(class_repeat_path, 'acc.npy'), allow_pickle=True).item()\n",
    "        train_acc_list.append(class_acc['train'])\n",
    "        valid_acc_list.append(class_acc['valid'])\n",
    "        test_acc_list.append(class_acc['test'])\n",
    "\n",
    "        for attack_type in attack_type_list:\n",
    "            attack_acc = np.load(os.path.join(attack_repeat_path, attack_type, '{}.npy'.format(metric)), allow_pickle=True)\n",
    "            if attack_type == 'stat':\n",
    "                stat_acc_list.append(attack_acc)\n",
    "            elif attack_type == 'black':\n",
    "                black_acc_list.append(attack_acc.item()['test'])\n",
    "\n",
    "    except FileNotFoundError:\n",
    "        # print('File not found: ', class_repeat_path)\n",
    "        continue\n",
    "\n",
    "print('{:.4f} {:.4f} {:.4f} {:.4f} {:.4f}'.format(\n",
    "    np.average(train_acc_list), np.average(valid_acc_list), np.average(test_acc_list),\n",
    "    np.average(stat_acc_list), np.average(black_acc_list),\n",
    "))\n",
    "# print(np.average(train_acc_list), np.average(valid_acc_list), np.average(test_acc_list))\n",
    "# print(np.average(stat_acc_list), np.average(black_acc_list), np.average(test_acc_list))\n",
    "\n"
   ],
   "metadata": {
    "collapsed": false,
    "pycharm": {
     "name": "#%% original_setsize2000\n"
    }
   }
  }
 ],
 "metadata": {
  "kernelspec": {
   "display_name": "Python 3",
   "language": "python",
   "name": "python3"
  },
  "language_info": {
   "codemirror_mode": {
    "name": "ipython",
    "version": 2
   },
   "file_extension": ".py",
   "mimetype": "text/x-python",
   "name": "python",
   "nbconvert_exporter": "python",
   "pygments_lexer": "ipython2",
   "version": "2.7.6"
  }
 },
 "nbformat": 4,
 "nbformat_minor": 0
}