{
 "cells": [
  {
   "cell_type": "code",
   "execution_count": 4,
   "metadata": {
    "collapsed": true
   },
   "outputs": [],
   "source": [
    "import os\n",
    "import numpy as np\n",
    "\n",
    "base_path = '/mnt/disk1/heonseok/MPMLD/output'"
   ]
  },
  {
   "cell_type": "code",
   "execution_count": 5,
   "outputs": [],
   "source": [
    "dataset = 'location'\n",
    "location_recon_model_list = [\n",
    "    'AE_z64_setsize1000_lr0.001_ref0.1_arcA_type5_cw1.0_mw1.0',\n",
    "    'AE_z64_setsize1000_lr0.001_ref0.2_arcA_type5_cw1.0_mw1.0',\n",
    "    'AE_z64_setsize1000_lr0.001_ref0.5_arcA_type5_cw1.0_mw1.0',\n",
    "]"
   ],
   "metadata": {
    "collapsed": false,
    "pycharm": {
     "name": "#%%\n"
    }
   }
  },
  {
   "cell_type": "code",
   "execution_count": 13,
   "outputs": [
    {
     "name": "stdout",
     "output_type": "stream",
     "text": [
      "AE_z64_type5_setsize1000_lr0.001_ref0.1_arcA_cw1.0_mw1.0 {'class_acc_full': 0.615, 'class_acc_content': 0.586, 'class_acc_style': 0.069, 'membership_acc_full': 0.5, 'membership_acc_content': 0.5, 'membership_acc_style': 0.5}\n",
      "AE_z64_type5_setsize1000_lr0.001_ref0.2_arcA_cw1.0_mw1.0 {'class_acc_full': 0.644, 'class_acc_content': 0.604, 'class_acc_style': 0.071, 'membership_acc_full': 0.633, 'membership_acc_content': 0.5, 'membership_acc_style': 0.5}\n",
      "AE_z64_type5_setsize1000_lr0.001_ref0.5_arcA_cw1.0_mw1.0 {'class_acc_full': 0.659, 'class_acc_content': 0.646, 'class_acc_style': 0.071, 'membership_acc_full': 0.552, 'membership_acc_content': 0.5, 'membership_acc_style': 0.5}\n"
     ]
    }
   ],
   "source": [
    "for recon_model in location_recon_model_list:\n",
    "    recon_path = os.path.join(base_path, dataset, 'reconstructor', recon_model)\n",
    "    # print(recon_path)\n",
    "    for repeat in range(5):\n",
    "        try:\n",
    "            repeat_path = os.path.join(recon_path, 'repeat{}'.format(repeat))\n",
    "            # print(repeat_path)\n",
    "            # print(os.path.exists(os.path.join(repeat_path, 'acc.npy')))\n",
    "            acc = np.load(os.path.join(repeat_path, 'acc.npy'), allow_pickle=True).item()\n",
    "            # print(acc)\n",
    "            print(recon_model, acc)\n",
    "            # for key, value in acc.items():\n",
    "                # acc['Recon'] = input_type\n",
    "                # print(acc)\n",
    "                # df = df.append({'Accuracy': value, 'Disc':key, 'Recon': input_type}, ignore_index=True)\n",
    "\n",
    "        except FileNotFoundError:\n",
    "            continue"
   ],
   "metadata": {
    "collapsed": false,
    "pycharm": {
     "name": "#%%\n"
    }
   }
  }
 ],
 "metadata": {
  "kernelspec": {
   "display_name": "Python 3",
   "language": "python",
   "name": "python3"
  },
  "language_info": {
   "codemirror_mode": {
    "name": "ipython",
    "version": 2
   },
   "file_extension": ".py",
   "mimetype": "text/x-python",
   "name": "python",
   "nbconvert_exporter": "python",
   "pygments_lexer": "ipython2",
   "version": "2.7.6"
  }
 },
 "nbformat": 4,
 "nbformat_minor": 0
}