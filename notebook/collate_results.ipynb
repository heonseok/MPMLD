{
 "cells": [
  {
   "cell_type": "code",
   "execution_count": 120,
   "metadata": {
    "collapsed": true
   },
   "outputs": [],
   "source": [
    "import os\n",
    "import numpy as np\n",
    "\n",
    "base_path = '/mnt/disk1/heonseok/MPMLD/output'"
   ]
  },
  {
   "cell_type": "code",
   "execution_count": 121,
   "outputs": [
    {
     "name": "stdout",
     "output_type": "stream",
     "text": [
      "'AE_z64_setsize2000_lr0.001_ref0.1_arcC_type5_cw0.01_mw0.01',\n",
      "'AE_z64_setsize2000_lr0.001_ref0.1_arcC_type5_cw0.01_mw0.1',\n",
      "'AE_z64_setsize2000_lr0.001_ref0.1_arcC_type5_cw0.01_mw1.0',\n",
      "'AE_z64_setsize2000_lr0.001_ref0.1_arcC_type5_cw0.1_mw0.01',\n",
      "'AE_z64_setsize2000_lr0.001_ref0.1_arcC_type5_cw0.1_mw0.1',\n",
      "'AE_z64_setsize2000_lr0.001_ref0.1_arcC_type5_cw0.1_mw1.0',\n",
      "'AE_z64_setsize2000_lr0.001_ref0.1_arcC_type5_cw1.0_mw0.01',\n",
      "'AE_z64_setsize2000_lr0.001_ref0.1_arcC_type5_cw1.0_mw0.1',\n",
      "'AE_z64_setsize2000_lr0.001_ref0.1_arcC_type5_cw1.0_mw1.0',\n",
      "'AE_z64_setsize2000_lr0.001_ref0.1_arcC_type5_cw0.01_mw0.01_FCNClassifierA',\n",
      "'AE_z64_setsize2000_lr0.001_ref0.1_arcC_type5_cw0.01_mw0.1_FCNClassifierA',\n",
      "'AE_z64_setsize2000_lr0.001_ref0.1_arcC_type5_cw0.01_mw1.0_FCNClassifierA',\n",
      "'AE_z64_setsize2000_lr0.001_ref0.1_arcC_type5_cw0.1_mw0.01_FCNClassifierA',\n",
      "'AE_z64_setsize2000_lr0.001_ref0.1_arcC_type5_cw0.1_mw0.1_FCNClassifierA',\n",
      "'AE_z64_setsize2000_lr0.001_ref0.1_arcC_type5_cw0.1_mw1.0_FCNClassifierA',\n",
      "'AE_z64_setsize2000_lr0.001_ref0.1_arcC_type5_cw1.0_mw0.01_FCNClassifierA',\n",
      "'AE_z64_setsize2000_lr0.001_ref0.1_arcC_type5_cw1.0_mw0.1_FCNClassifierA',\n",
      "'AE_z64_setsize2000_lr0.001_ref0.1_arcC_type5_cw1.0_mw1.0_FCNClassifierA',\n"
     ]
    }
   ],
   "source": [
    "dataset = 'location'\n",
    "\n",
    "z_dim_list = [\n",
    "    # '16',\n",
    "    '64',\n",
    "]\n",
    "\n",
    "setsize_list = [\n",
    "    # '500',\n",
    "    # '1000',\n",
    "    '2000',\n",
    "]\n",
    "\n",
    "lr_list = [\n",
    "    '0.001',\n",
    "    # '0.01',\n",
    "    # '0.1',\n",
    "]\n",
    "\n",
    "ref_list = [\n",
    "    '0.1',\n",
    "]\n",
    "\n",
    "arc_list = [\n",
    "    # 'A',\n",
    "    # 'B',\n",
    "    'C',\n",
    "]\n",
    "\n",
    "dis_type_list = [\n",
    "    # 'base',\n",
    "    'type5',\n",
    "]\n",
    "\n",
    "cw_list = [\n",
    "    '0.01',\n",
    "    '0.1',\n",
    "    '1.0',\n",
    "]\n",
    "\n",
    "mw_list = [\n",
    "    '0.01',\n",
    "    '0.1',\n",
    "    '1.0',\n",
    "]\n",
    "\n",
    "recon_model_list = []\n",
    "for z_dim in z_dim_list:\n",
    "    for setsize in setsize_list:\n",
    "        for lr in lr_list:\n",
    "            for ref in ref_list:\n",
    "                for arc in arc_list:\n",
    "                    for dis_type in dis_type_list:\n",
    "                        if 'base' in dis_type:\n",
    "                            recon_model = 'AE_z{}_setsize{}_lr{}_ref{}_arc{}_{}'.format(\n",
    "                                z_dim, setsize, lr, ref, arc, dis_type,\n",
    "                            )\n",
    "                            recon_model_list.append(recon_model)\n",
    "                            continue\n",
    "                        for cw in cw_list:\n",
    "                            for mw in mw_list:\n",
    "                                recon_model = 'AE_z{}_setsize{}_lr{}_ref{}_arc{}_{}_cw{}_mw{}'.format(\n",
    "                                    z_dim, setsize, lr, ref, arc, dis_type, cw, mw,\n",
    "                                )\n",
    "                                recon_model_list.append(recon_model)\n",
    "\n",
    "for recon_model in recon_model_list:\n",
    "    print('\\''+recon_model+'\\',')\n",
    "\n",
    "class_model_list = []\n",
    "for idx in range(len(recon_model_list)):\n",
    "    class_model_list.append(recon_model_list[idx] + '_FCNClassifierA')\n",
    "    print('\\''+class_model_list[idx]+'\\',')\n"
   ],
   "metadata": {
    "collapsed": false,
    "pycharm": {
     "name": "#%%\n"
    }
   }
  },
  {
   "cell_type": "code",
   "execution_count": 122,
   "outputs": [
    {
     "name": "stdout",
     "output_type": "stream",
     "text": [
      "AE,z64,setsize2000,lr0.001,ref0.1,arcC,type5,cw0.01,mw0.01,0.8648,0.7384,0.1299,0.9468,0.8252,0.8891\n",
      "AE,z64,setsize2000,lr0.001,ref0.1,arcC,type5,cw0.01,mw0.1,0.8575,0.7211,0.1383,0.8347,0.5001,0.8200\n",
      "AE,z64,setsize2000,lr0.001,ref0.1,arcC,type5,cw0.01,mw1.0,0.8519,0.7232,0.1353,0.6627,0.5000,0.8039\n",
      "AE,z64,setsize2000,lr0.001,ref0.1,arcC,type5,cw0.1,mw0.01,0.8434,0.7628,0.0671,0.9149,0.8406,0.8485\n",
      "AE,z64,setsize2000,lr0.001,ref0.1,arcC,type5,cw0.1,mw0.1,0.7864,0.7111,0.0647,0.6251,0.5161,0.7657\n",
      "AE,z64,setsize2000,lr0.001,ref0.1,arcC,type5,cw0.1,mw1.0,0.8397,0.7250,0.0676,0.5000,0.5000,0.7719\n",
      "AE,z64,setsize2000,lr0.001,ref0.1,arcC,type5,cw1.0,mw0.01,0.9057,0.7213,0.0655,0.9254,0.8527,0.6749\n",
      "AE,z64,setsize2000,lr0.001,ref0.1,arcC,type5,cw1.0,mw0.1,0.8589,0.6660,0.0655,0.7097,0.5000,0.6473\n",
      "AE,z64,setsize2000,lr0.001,ref0.1,arcC,type5,cw1.0,mw1.0,0.8531,0.7120,0.0655,0.4999,0.5000,0.6651\n"
     ]
    }
   ],
   "source": [
    "for recon_model in recon_model_list:\n",
    "    print('\\''+recon_model+'\\',')\n",
    "\n",
    "for recon_model in recon_model_list:\n",
    "    recon_path = os.path.join(base_path, dataset, 'reconstructor', recon_model)\n",
    "\n",
    "    class_acc_full_list = []\n",
    "    class_acc_content_list = []\n",
    "    class_acc_style_list = []\n",
    "    membership_acc_full_list = []\n",
    "    membership_acc_content_list = []\n",
    "    membership_acc_style_list = []\n",
    "\n",
    "    for repeat in range(5):\n",
    "        try:\n",
    "            recon_repeat_path = os.path.join(recon_path, 'repeat{}'.format(repeat))\n",
    "            recon_acc_path = os.path.join(recon_repeat_path, 'acc.npy')\n",
    "            recon_acc = np.load(recon_acc_path, allow_pickle=True).item()\n",
    "\n",
    "            class_acc_full_list.append(recon_acc['class_acc_full'])\n",
    "            class_acc_content_list.append(recon_acc['class_acc_content'])\n",
    "            class_acc_style_list.append(recon_acc['class_acc_style'])\n",
    "            membership_acc_full_list.append(recon_acc['membership_acc_full'])\n",
    "            membership_acc_content_list.append(recon_acc['membership_acc_content'])\n",
    "            membership_acc_style_list.append(recon_acc['membership_acc_style'])\n",
    "\n",
    "        except FileNotFoundError:\n",
    "            # print('File not found: ', recon_acc_path)\n",
    "            continue\n",
    "\n",
    "    result_list = [\n",
    "        *recon_model.split('_'),\n",
    "        np.average(class_acc_full_list), np.average(class_acc_content_list), np.average(class_acc_style_list),\n",
    "        np.average(membership_acc_full_list), np.average(membership_acc_content_list), np.average(membership_acc_style_list)\n",
    "    ]\n",
    "\n",
    "    for idx, result in enumerate(result_list):\n",
    "        if not type(result) is str:\n",
    "            result_list[idx] = '{:.4f}'.format(result)\n",
    "    print(','.join(result_list))\n"
   ],
   "metadata": {
    "collapsed": false,
    "pycharm": {
     "name": "#%% Reconstruction\n"
    }
   }
  },
  {
   "cell_type": "code",
   "execution_count": 131,
   "outputs": [
    {
     "name": "stdout",
     "output_type": "stream",
     "text": [
      "'AE_z64_setsize2000_lr0.001_ref0.1_arcC_type5_cw0.01_mw0.01_FCNClassifierA',\n",
      "'AE_z64_setsize2000_lr0.001_ref0.1_arcC_type5_cw0.01_mw0.1_FCNClassifierA',\n",
      "'AE_z64_setsize2000_lr0.001_ref0.1_arcC_type5_cw0.01_mw1.0_FCNClassifierA',\n",
      "'AE_z64_setsize2000_lr0.001_ref0.1_arcC_type5_cw0.1_mw0.01_FCNClassifierA',\n",
      "'AE_z64_setsize2000_lr0.001_ref0.1_arcC_type5_cw0.1_mw0.1_FCNClassifierA',\n",
      "'AE_z64_setsize2000_lr0.001_ref0.1_arcC_type5_cw0.1_mw1.0_FCNClassifierA',\n",
      "'AE_z64_setsize2000_lr0.001_ref0.1_arcC_type5_cw1.0_mw0.01_FCNClassifierA',\n",
      "'AE_z64_setsize2000_lr0.001_ref0.1_arcC_type5_cw1.0_mw0.1_FCNClassifierA',\n",
      "'AE_z64_setsize2000_lr0.001_ref0.1_arcC_type5_cw1.0_mw1.0_FCNClassifierA',\n",
      "0.8139,0.6665,0.6220,0.5867,0.4000,0.3265,0.0674,0.0775,0.0655\n",
      "0.8270,0.6670,0.6160,0.5078,0.2760,0.2235,0.0669,0.0735,0.0575\n",
      "0.7867,0.6770,0.6235,0.6004,0.3685,0.3195,0.0693,0.0780,0.0555\n",
      "0.8319,0.6700,0.6170,0.6317,0.3545,0.3095,0.0726,0.0795,0.0565\n",
      "0.8004,0.6535,0.6250,0.4343,0.2460,0.2245,0.0637,0.0765,0.0630\n",
      "0.7987,0.6630,0.6235,0.5949,0.3130,0.3010,0.0657,0.0795,0.0580\n",
      "0.8296,0.6610,0.6330,0.6041,0.3595,0.3075,0.1834,0.1295,0.1110\n",
      "0.8301,0.6615,0.6215,0.5182,0.2795,0.2395,0.1734,0.1360,0.1205\n",
      "0.8391,0.6740,0.6310,0.5895,0.3955,0.3475,0.2452,0.1825,0.1630\n"
     ]
    }
   ],
   "source": [
    "for class_model in class_model_list:\n",
    "    print('\\''+class_model+'\\',')\n",
    "\n",
    "for class_model in class_model_list:\n",
    "    class_path = os.path.join(base_path, dataset, 'classifier', class_model)\n",
    "\n",
    "    result_list = []\n",
    "    for recon_type in ['full_z', 'content_z', 'style_z']:\n",
    "        train_acc_list = []\n",
    "        valid_acc_list = []\n",
    "        test_acc_list = []\n",
    "        for repeat in range(5):\n",
    "            try:\n",
    "                class_repeat_path = os.path.join(class_path, recon_type, 'repeat{}'.format(repeat))\n",
    "                class_acc = np.load(os.path.join(class_repeat_path, 'acc.npy'), allow_pickle=True).item()\n",
    "                train_acc_list.append(class_acc['train'])\n",
    "                valid_acc_list.append(class_acc['valid'])\n",
    "                test_acc_list.append(class_acc['test'])\n",
    "\n",
    "            except FileNotFoundError:\n",
    "                # print('File not found: ', class_repeat_path)\n",
    "                continue\n",
    "\n",
    "        result_list.extend([np.average(train_acc_list), np.average(valid_acc_list), np.average(test_acc_list)])\n",
    "\n",
    "    for idx, result in enumerate(result_list):\n",
    "        if not type(result) is str:\n",
    "            result_list[idx] = '{:.4f}'.format(result)\n",
    "    print(','.join(result_list))\n"
   ],
   "metadata": {
    "collapsed": false,
    "pycharm": {
     "name": "#%% Classification\n"
    }
   }
  },
  {
   "cell_type": "code",
   "execution_count": 133,
   "outputs": [
    {
     "name": "stdout",
     "output_type": "stream",
     "text": [
      "'AE_z64_setsize2000_lr0.001_ref0.1_arcC_type5_cw0.01_mw0.01_FCNClassifierA',\n",
      "'AE_z64_setsize2000_lr0.001_ref0.1_arcC_type5_cw0.01_mw0.1_FCNClassifierA',\n",
      "'AE_z64_setsize2000_lr0.001_ref0.1_arcC_type5_cw0.01_mw1.0_FCNClassifierA',\n",
      "'AE_z64_setsize2000_lr0.001_ref0.1_arcC_type5_cw0.1_mw0.01_FCNClassifierA',\n",
      "'AE_z64_setsize2000_lr0.001_ref0.1_arcC_type5_cw0.1_mw0.1_FCNClassifierA',\n",
      "'AE_z64_setsize2000_lr0.001_ref0.1_arcC_type5_cw0.1_mw1.0_FCNClassifierA',\n",
      "'AE_z64_setsize2000_lr0.001_ref0.1_arcC_type5_cw1.0_mw0.01_FCNClassifierA',\n",
      "'AE_z64_setsize2000_lr0.001_ref0.1_arcC_type5_cw1.0_mw0.1_FCNClassifierA',\n",
      "'AE_z64_setsize2000_lr0.001_ref0.1_arcC_type5_cw1.0_mw1.0_FCNClassifierA',\n",
      "0.5529,0.5767,0.5183,0.5100,0.5139,0.5143\n",
      "0.5546,0.5803,0.5130,0.5197,0.5119,0.5330\n",
      "0.5504,0.5617,0.5134,0.5230,0.5180,0.5037\n",
      "0.5584,0.5733,0.5143,0.5163,0.5156,0.5110\n",
      "0.5514,0.5617,0.5102,0.5170,0.5162,0.5130\n",
      "0.5486,0.5697,0.5092,0.5133,0.5125,0.5193\n",
      "0.5584,0.5733,0.5185,0.5173,0.5291,0.5163\n",
      "0.5567,0.5777,0.5131,0.5110,0.5200,0.5020\n",
      "0.5620,0.5867,0.5122,0.5180,0.5300,0.5173\n"
     ]
    }
   ],
   "source": [
    "attack_type_list = ['stat', 'black']\n",
    "for class_model in class_model_list:\n",
    "    print('\\''+class_model+'\\',')\n",
    "\n",
    "for class_model in class_model_list:\n",
    "    attack_path = os.path.join(base_path, dataset, 'attacker', class_model)\n",
    "\n",
    "    result_list = []\n",
    "    for recon_type in ['full_z', 'content_z', 'style_z']:\n",
    "        stat_acc_list = []\n",
    "        black_acc_list = []\n",
    "        # white_acc_list = []\n",
    "        for repeat in range(5):\n",
    "            for attack_type in attack_type_list:\n",
    "                attack_repeat_path = os.path.join(attack_path, recon_type, 'repeat{}'.format(repeat))\n",
    "                try:\n",
    "                    attack_acc = np.load(os.path.join(attack_repeat_path, attack_type, 'acc.npy'), allow_pickle=True)\n",
    "                    if attack_type == 'stat':\n",
    "                        stat_acc_list.append(attack_acc)\n",
    "                    elif attack_type == 'black':\n",
    "                        black_acc_list.append(attack_acc.item()['test'])\n",
    "                    # elif attack_type == 'white':\n",
    "                    #     white_acc_list.append(attack_acc.item()['test'])\n",
    "\n",
    "                except FileNotFoundError:\n",
    "                    print('File not found: ', attack_repeat_path)\n",
    "                    continue\n",
    "\n",
    "        result_list.extend([np.average(stat_acc_list), np.average(black_acc_list)])\n",
    "\n",
    "    for idx, result in enumerate(result_list):\n",
    "        if not type(result) is str:\n",
    "            result_list[idx] = '{:.4f}'.format(result)\n",
    "    print(','.join(result_list))\n"
   ],
   "metadata": {
    "collapsed": false,
    "pycharm": {
     "name": "#%% Attack\n"
    }
   }
  },
  {
   "cell_type": "code",
   "execution_count": 140,
   "outputs": [
    {
     "name": "stdout",
     "output_type": "stream",
     "text": [
      "0.9420 0.6850 0.6535 0.6066 0.6743\n"
     ]
    }
   ],
   "source": [
    "classifier_with_raw_data = 'original_setsize2000_FCNClassifierA'\n",
    "class_path = os.path.join(base_path, dataset, 'classifier', classifier_with_raw_data)\n",
    "attack_path = os.path.join(base_path, dataset, 'attacker', classifier_with_raw_data)\n",
    "train_acc_list = []\n",
    "valid_acc_list = []\n",
    "test_acc_list = []\n",
    "stat_acc_list = []\n",
    "black_acc_list = []\n",
    "for repeat in range(5):\n",
    "    try:\n",
    "        class_repeat_path = os.path.join(class_path, 'repeat{}'.format(repeat))\n",
    "        attack_repeat_path = os.path.join(attack_path, 'repeat{}'.format(repeat))\n",
    "\n",
    "        class_acc = np.load(os.path.join(class_repeat_path, 'acc.npy'), allow_pickle=True).item()\n",
    "        train_acc_list.append(class_acc['train'])\n",
    "        valid_acc_list.append(class_acc['valid'])\n",
    "        test_acc_list.append(class_acc['test'])\n",
    "\n",
    "        for attack_type in attack_type_list:\n",
    "            attack_acc = np.load(os.path.join(attack_repeat_path, attack_type, 'acc.npy'), allow_pickle=True)\n",
    "            if attack_type == 'stat':\n",
    "                stat_acc_list.append(attack_acc)\n",
    "            elif attack_type == 'black':\n",
    "                black_acc_list.append(attack_acc.item()['test'])\n",
    "\n",
    "    except FileNotFoundError:\n",
    "        print('File not found: ', class_repeat_path)\n",
    "        continue\n",
    "\n",
    "print('{:.4f} {:.4f} {:.4f} {:.4f} {:.4f}'.format(\n",
    "    np.average(train_acc_list), np.average(valid_acc_list), np.average(test_acc_list),\n",
    "    np.average(stat_acc_list), np.average(black_acc_list),\n",
    "))\n",
    "# print(np.average(train_acc_list), np.average(valid_acc_list), np.average(test_acc_list))\n",
    "# print(np.average(stat_acc_list), np.average(black_acc_list), np.average(test_acc_list))\n",
    "\n"
   ],
   "metadata": {
    "collapsed": false,
    "pycharm": {
     "name": "#%% original_setsize2000\n"
    }
   }
  }
 ],
 "metadata": {
  "kernelspec": {
   "display_name": "Python 3",
   "language": "python",
   "name": "python3"
  },
  "language_info": {
   "codemirror_mode": {
    "name": "ipython",
    "version": 2
   },
   "file_extension": ".py",
   "mimetype": "text/x-python",
   "name": "python",
   "nbconvert_exporter": "python",
   "pygments_lexer": "ipython2",
   "version": "2.7.6"
  }
 },
 "nbformat": 4,
 "nbformat_minor": 0
}